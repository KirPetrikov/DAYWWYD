{
 "cells": [
  {
   "cell_type": "markdown",
   "id": "69aa8e68-a7b2-4453-acc1-22d9b4385223",
   "metadata": {},
   "source": [
    "# RandomForestClassifierCustom"
   ]
  },
  {
   "cell_type": "code",
   "execution_count": 1,
   "id": "bc26630d-d3fe-4e32-b5f4-8b5f40ff5650",
   "metadata": {},
   "outputs": [],
   "source": [
    "from custom_random_forest import RandomForestClassifierCustom\n",
    "from sklearn.datasets import make_classification\n",
    "from sklearn.model_selection import train_test_split"
   ]
  },
  {
   "cell_type": "code",
   "execution_count": 2,
   "id": "98763118-8982-4782-bcb1-9a587bf89724",
   "metadata": {},
   "outputs": [],
   "source": [
    "X, y = make_classification(n_samples=100000)\n",
    "X_train, X_test, y_train, y_test = train_test_split(X, y, test_size=0.2)"
   ]
  },
  {
   "cell_type": "code",
   "execution_count": 3,
   "id": "141f884e-4b87-4326-b526-0da49c2112ba",
   "metadata": {},
   "outputs": [],
   "source": [
    "parallel_tree = RandomForestClassifierCustom(n_estimators=10, \n",
    "                                             max_depth=30, \n",
    "                                             max_features=2, \n",
    "                                             random_state=42)"
   ]
  },
  {
   "cell_type": "markdown",
   "id": "08e43ad6-c9c6-433a-832e-f868c3a7c147",
   "metadata": {},
   "source": [
    "**Один процесс**"
   ]
  },
  {
   "cell_type": "code",
   "execution_count": 4,
   "id": "bad6ddcf-d18a-4754-970d-acc63c18dd6f",
   "metadata": {},
   "outputs": [
    {
     "name": "stdout",
     "output_type": "stream",
     "text": [
      "CPU times: user 48.5 ms, sys: 77.4 ms, total: 126 ms\n",
      "Wall time: 2.22 s\n"
     ]
    },
    {
     "data": {
      "text/html": [
       "<style>#sk-container-id-1 {\n",
       "  /* Definition of color scheme common for light and dark mode */\n",
       "  --sklearn-color-text: black;\n",
       "  --sklearn-color-line: gray;\n",
       "  /* Definition of color scheme for unfitted estimators */\n",
       "  --sklearn-color-unfitted-level-0: #fff5e6;\n",
       "  --sklearn-color-unfitted-level-1: #f6e4d2;\n",
       "  --sklearn-color-unfitted-level-2: #ffe0b3;\n",
       "  --sklearn-color-unfitted-level-3: chocolate;\n",
       "  /* Definition of color scheme for fitted estimators */\n",
       "  --sklearn-color-fitted-level-0: #f0f8ff;\n",
       "  --sklearn-color-fitted-level-1: #d4ebff;\n",
       "  --sklearn-color-fitted-level-2: #b3dbfd;\n",
       "  --sklearn-color-fitted-level-3: cornflowerblue;\n",
       "\n",
       "  /* Specific color for light theme */\n",
       "  --sklearn-color-text-on-default-background: var(--sg-text-color, var(--theme-code-foreground, var(--jp-content-font-color1, black)));\n",
       "  --sklearn-color-background: var(--sg-background-color, var(--theme-background, var(--jp-layout-color0, white)));\n",
       "  --sklearn-color-border-box: var(--sg-text-color, var(--theme-code-foreground, var(--jp-content-font-color1, black)));\n",
       "  --sklearn-color-icon: #696969;\n",
       "\n",
       "  @media (prefers-color-scheme: dark) {\n",
       "    /* Redefinition of color scheme for dark theme */\n",
       "    --sklearn-color-text-on-default-background: var(--sg-text-color, var(--theme-code-foreground, var(--jp-content-font-color1, white)));\n",
       "    --sklearn-color-background: var(--sg-background-color, var(--theme-background, var(--jp-layout-color0, #111)));\n",
       "    --sklearn-color-border-box: var(--sg-text-color, var(--theme-code-foreground, var(--jp-content-font-color1, white)));\n",
       "    --sklearn-color-icon: #878787;\n",
       "  }\n",
       "}\n",
       "\n",
       "#sk-container-id-1 {\n",
       "  color: var(--sklearn-color-text);\n",
       "}\n",
       "\n",
       "#sk-container-id-1 pre {\n",
       "  padding: 0;\n",
       "}\n",
       "\n",
       "#sk-container-id-1 input.sk-hidden--visually {\n",
       "  border: 0;\n",
       "  clip: rect(1px 1px 1px 1px);\n",
       "  clip: rect(1px, 1px, 1px, 1px);\n",
       "  height: 1px;\n",
       "  margin: -1px;\n",
       "  overflow: hidden;\n",
       "  padding: 0;\n",
       "  position: absolute;\n",
       "  width: 1px;\n",
       "}\n",
       "\n",
       "#sk-container-id-1 div.sk-dashed-wrapped {\n",
       "  border: 1px dashed var(--sklearn-color-line);\n",
       "  margin: 0 0.4em 0.5em 0.4em;\n",
       "  box-sizing: border-box;\n",
       "  padding-bottom: 0.4em;\n",
       "  background-color: var(--sklearn-color-background);\n",
       "}\n",
       "\n",
       "#sk-container-id-1 div.sk-container {\n",
       "  /* jupyter's `normalize.less` sets `[hidden] { display: none; }`\n",
       "     but bootstrap.min.css set `[hidden] { display: none !important; }`\n",
       "     so we also need the `!important` here to be able to override the\n",
       "     default hidden behavior on the sphinx rendered scikit-learn.org.\n",
       "     See: https://github.com/scikit-learn/scikit-learn/issues/21755 */\n",
       "  display: inline-block !important;\n",
       "  position: relative;\n",
       "}\n",
       "\n",
       "#sk-container-id-1 div.sk-text-repr-fallback {\n",
       "  display: none;\n",
       "}\n",
       "\n",
       "div.sk-parallel-item,\n",
       "div.sk-serial,\n",
       "div.sk-item {\n",
       "  /* draw centered vertical line to link estimators */\n",
       "  background-image: linear-gradient(var(--sklearn-color-text-on-default-background), var(--sklearn-color-text-on-default-background));\n",
       "  background-size: 2px 100%;\n",
       "  background-repeat: no-repeat;\n",
       "  background-position: center center;\n",
       "}\n",
       "\n",
       "/* Parallel-specific style estimator block */\n",
       "\n",
       "#sk-container-id-1 div.sk-parallel-item::after {\n",
       "  content: \"\";\n",
       "  width: 100%;\n",
       "  border-bottom: 2px solid var(--sklearn-color-text-on-default-background);\n",
       "  flex-grow: 1;\n",
       "}\n",
       "\n",
       "#sk-container-id-1 div.sk-parallel {\n",
       "  display: flex;\n",
       "  align-items: stretch;\n",
       "  justify-content: center;\n",
       "  background-color: var(--sklearn-color-background);\n",
       "  position: relative;\n",
       "}\n",
       "\n",
       "#sk-container-id-1 div.sk-parallel-item {\n",
       "  display: flex;\n",
       "  flex-direction: column;\n",
       "}\n",
       "\n",
       "#sk-container-id-1 div.sk-parallel-item:first-child::after {\n",
       "  align-self: flex-end;\n",
       "  width: 50%;\n",
       "}\n",
       "\n",
       "#sk-container-id-1 div.sk-parallel-item:last-child::after {\n",
       "  align-self: flex-start;\n",
       "  width: 50%;\n",
       "}\n",
       "\n",
       "#sk-container-id-1 div.sk-parallel-item:only-child::after {\n",
       "  width: 0;\n",
       "}\n",
       "\n",
       "/* Serial-specific style estimator block */\n",
       "\n",
       "#sk-container-id-1 div.sk-serial {\n",
       "  display: flex;\n",
       "  flex-direction: column;\n",
       "  align-items: center;\n",
       "  background-color: var(--sklearn-color-background);\n",
       "  padding-right: 1em;\n",
       "  padding-left: 1em;\n",
       "}\n",
       "\n",
       "\n",
       "/* Toggleable style: style used for estimator/Pipeline/ColumnTransformer box that is\n",
       "clickable and can be expanded/collapsed.\n",
       "- Pipeline and ColumnTransformer use this feature and define the default style\n",
       "- Estimators will overwrite some part of the style using the `sk-estimator` class\n",
       "*/\n",
       "\n",
       "/* Pipeline and ColumnTransformer style (default) */\n",
       "\n",
       "#sk-container-id-1 div.sk-toggleable {\n",
       "  /* Default theme specific background. It is overwritten whether we have a\n",
       "  specific estimator or a Pipeline/ColumnTransformer */\n",
       "  background-color: var(--sklearn-color-background);\n",
       "}\n",
       "\n",
       "/* Toggleable label */\n",
       "#sk-container-id-1 label.sk-toggleable__label {\n",
       "  cursor: pointer;\n",
       "  display: block;\n",
       "  width: 100%;\n",
       "  margin-bottom: 0;\n",
       "  padding: 0.5em;\n",
       "  box-sizing: border-box;\n",
       "  text-align: center;\n",
       "}\n",
       "\n",
       "#sk-container-id-1 label.sk-toggleable__label-arrow:before {\n",
       "  /* Arrow on the left of the label */\n",
       "  content: \"▸\";\n",
       "  float: left;\n",
       "  margin-right: 0.25em;\n",
       "  color: var(--sklearn-color-icon);\n",
       "}\n",
       "\n",
       "#sk-container-id-1 label.sk-toggleable__label-arrow:hover:before {\n",
       "  color: var(--sklearn-color-text);\n",
       "}\n",
       "\n",
       "/* Toggleable content - dropdown */\n",
       "\n",
       "#sk-container-id-1 div.sk-toggleable__content {\n",
       "  max-height: 0;\n",
       "  max-width: 0;\n",
       "  overflow: hidden;\n",
       "  text-align: left;\n",
       "  /* unfitted */\n",
       "  background-color: var(--sklearn-color-unfitted-level-0);\n",
       "}\n",
       "\n",
       "#sk-container-id-1 div.sk-toggleable__content.fitted {\n",
       "  /* fitted */\n",
       "  background-color: var(--sklearn-color-fitted-level-0);\n",
       "}\n",
       "\n",
       "#sk-container-id-1 div.sk-toggleable__content pre {\n",
       "  margin: 0.2em;\n",
       "  border-radius: 0.25em;\n",
       "  color: var(--sklearn-color-text);\n",
       "  /* unfitted */\n",
       "  background-color: var(--sklearn-color-unfitted-level-0);\n",
       "}\n",
       "\n",
       "#sk-container-id-1 div.sk-toggleable__content.fitted pre {\n",
       "  /* unfitted */\n",
       "  background-color: var(--sklearn-color-fitted-level-0);\n",
       "}\n",
       "\n",
       "#sk-container-id-1 input.sk-toggleable__control:checked~div.sk-toggleable__content {\n",
       "  /* Expand drop-down */\n",
       "  max-height: 200px;\n",
       "  max-width: 100%;\n",
       "  overflow: auto;\n",
       "}\n",
       "\n",
       "#sk-container-id-1 input.sk-toggleable__control:checked~label.sk-toggleable__label-arrow:before {\n",
       "  content: \"▾\";\n",
       "}\n",
       "\n",
       "/* Pipeline/ColumnTransformer-specific style */\n",
       "\n",
       "#sk-container-id-1 div.sk-label input.sk-toggleable__control:checked~label.sk-toggleable__label {\n",
       "  color: var(--sklearn-color-text);\n",
       "  background-color: var(--sklearn-color-unfitted-level-2);\n",
       "}\n",
       "\n",
       "#sk-container-id-1 div.sk-label.fitted input.sk-toggleable__control:checked~label.sk-toggleable__label {\n",
       "  background-color: var(--sklearn-color-fitted-level-2);\n",
       "}\n",
       "\n",
       "/* Estimator-specific style */\n",
       "\n",
       "/* Colorize estimator box */\n",
       "#sk-container-id-1 div.sk-estimator input.sk-toggleable__control:checked~label.sk-toggleable__label {\n",
       "  /* unfitted */\n",
       "  background-color: var(--sklearn-color-unfitted-level-2);\n",
       "}\n",
       "\n",
       "#sk-container-id-1 div.sk-estimator.fitted input.sk-toggleable__control:checked~label.sk-toggleable__label {\n",
       "  /* fitted */\n",
       "  background-color: var(--sklearn-color-fitted-level-2);\n",
       "}\n",
       "\n",
       "#sk-container-id-1 div.sk-label label.sk-toggleable__label,\n",
       "#sk-container-id-1 div.sk-label label {\n",
       "  /* The background is the default theme color */\n",
       "  color: var(--sklearn-color-text-on-default-background);\n",
       "}\n",
       "\n",
       "/* On hover, darken the color of the background */\n",
       "#sk-container-id-1 div.sk-label:hover label.sk-toggleable__label {\n",
       "  color: var(--sklearn-color-text);\n",
       "  background-color: var(--sklearn-color-unfitted-level-2);\n",
       "}\n",
       "\n",
       "/* Label box, darken color on hover, fitted */\n",
       "#sk-container-id-1 div.sk-label.fitted:hover label.sk-toggleable__label.fitted {\n",
       "  color: var(--sklearn-color-text);\n",
       "  background-color: var(--sklearn-color-fitted-level-2);\n",
       "}\n",
       "\n",
       "/* Estimator label */\n",
       "\n",
       "#sk-container-id-1 div.sk-label label {\n",
       "  font-family: monospace;\n",
       "  font-weight: bold;\n",
       "  display: inline-block;\n",
       "  line-height: 1.2em;\n",
       "}\n",
       "\n",
       "#sk-container-id-1 div.sk-label-container {\n",
       "  text-align: center;\n",
       "}\n",
       "\n",
       "/* Estimator-specific */\n",
       "#sk-container-id-1 div.sk-estimator {\n",
       "  font-family: monospace;\n",
       "  border: 1px dotted var(--sklearn-color-border-box);\n",
       "  border-radius: 0.25em;\n",
       "  box-sizing: border-box;\n",
       "  margin-bottom: 0.5em;\n",
       "  /* unfitted */\n",
       "  background-color: var(--sklearn-color-unfitted-level-0);\n",
       "}\n",
       "\n",
       "#sk-container-id-1 div.sk-estimator.fitted {\n",
       "  /* fitted */\n",
       "  background-color: var(--sklearn-color-fitted-level-0);\n",
       "}\n",
       "\n",
       "/* on hover */\n",
       "#sk-container-id-1 div.sk-estimator:hover {\n",
       "  /* unfitted */\n",
       "  background-color: var(--sklearn-color-unfitted-level-2);\n",
       "}\n",
       "\n",
       "#sk-container-id-1 div.sk-estimator.fitted:hover {\n",
       "  /* fitted */\n",
       "  background-color: var(--sklearn-color-fitted-level-2);\n",
       "}\n",
       "\n",
       "/* Specification for estimator info (e.g. \"i\" and \"?\") */\n",
       "\n",
       "/* Common style for \"i\" and \"?\" */\n",
       "\n",
       ".sk-estimator-doc-link,\n",
       "a:link.sk-estimator-doc-link,\n",
       "a:visited.sk-estimator-doc-link {\n",
       "  float: right;\n",
       "  font-size: smaller;\n",
       "  line-height: 1em;\n",
       "  font-family: monospace;\n",
       "  background-color: var(--sklearn-color-background);\n",
       "  border-radius: 1em;\n",
       "  height: 1em;\n",
       "  width: 1em;\n",
       "  text-decoration: none !important;\n",
       "  margin-left: 1ex;\n",
       "  /* unfitted */\n",
       "  border: var(--sklearn-color-unfitted-level-1) 1pt solid;\n",
       "  color: var(--sklearn-color-unfitted-level-1);\n",
       "}\n",
       "\n",
       ".sk-estimator-doc-link.fitted,\n",
       "a:link.sk-estimator-doc-link.fitted,\n",
       "a:visited.sk-estimator-doc-link.fitted {\n",
       "  /* fitted */\n",
       "  border: var(--sklearn-color-fitted-level-1) 1pt solid;\n",
       "  color: var(--sklearn-color-fitted-level-1);\n",
       "}\n",
       "\n",
       "/* On hover */\n",
       "div.sk-estimator:hover .sk-estimator-doc-link:hover,\n",
       ".sk-estimator-doc-link:hover,\n",
       "div.sk-label-container:hover .sk-estimator-doc-link:hover,\n",
       ".sk-estimator-doc-link:hover {\n",
       "  /* unfitted */\n",
       "  background-color: var(--sklearn-color-unfitted-level-3);\n",
       "  color: var(--sklearn-color-background);\n",
       "  text-decoration: none;\n",
       "}\n",
       "\n",
       "div.sk-estimator.fitted:hover .sk-estimator-doc-link.fitted:hover,\n",
       ".sk-estimator-doc-link.fitted:hover,\n",
       "div.sk-label-container:hover .sk-estimator-doc-link.fitted:hover,\n",
       ".sk-estimator-doc-link.fitted:hover {\n",
       "  /* fitted */\n",
       "  background-color: var(--sklearn-color-fitted-level-3);\n",
       "  color: var(--sklearn-color-background);\n",
       "  text-decoration: none;\n",
       "}\n",
       "\n",
       "/* Span, style for the box shown on hovering the info icon */\n",
       ".sk-estimator-doc-link span {\n",
       "  display: none;\n",
       "  z-index: 9999;\n",
       "  position: relative;\n",
       "  font-weight: normal;\n",
       "  right: .2ex;\n",
       "  padding: .5ex;\n",
       "  margin: .5ex;\n",
       "  width: min-content;\n",
       "  min-width: 20ex;\n",
       "  max-width: 50ex;\n",
       "  color: var(--sklearn-color-text);\n",
       "  box-shadow: 2pt 2pt 4pt #999;\n",
       "  /* unfitted */\n",
       "  background: var(--sklearn-color-unfitted-level-0);\n",
       "  border: .5pt solid var(--sklearn-color-unfitted-level-3);\n",
       "}\n",
       "\n",
       ".sk-estimator-doc-link.fitted span {\n",
       "  /* fitted */\n",
       "  background: var(--sklearn-color-fitted-level-0);\n",
       "  border: var(--sklearn-color-fitted-level-3);\n",
       "}\n",
       "\n",
       ".sk-estimator-doc-link:hover span {\n",
       "  display: block;\n",
       "}\n",
       "\n",
       "/* \"?\"-specific style due to the `<a>` HTML tag */\n",
       "\n",
       "#sk-container-id-1 a.estimator_doc_link {\n",
       "  float: right;\n",
       "  font-size: 1rem;\n",
       "  line-height: 1em;\n",
       "  font-family: monospace;\n",
       "  background-color: var(--sklearn-color-background);\n",
       "  border-radius: 1rem;\n",
       "  height: 1rem;\n",
       "  width: 1rem;\n",
       "  text-decoration: none;\n",
       "  /* unfitted */\n",
       "  color: var(--sklearn-color-unfitted-level-1);\n",
       "  border: var(--sklearn-color-unfitted-level-1) 1pt solid;\n",
       "}\n",
       "\n",
       "#sk-container-id-1 a.estimator_doc_link.fitted {\n",
       "  /* fitted */\n",
       "  border: var(--sklearn-color-fitted-level-1) 1pt solid;\n",
       "  color: var(--sklearn-color-fitted-level-1);\n",
       "}\n",
       "\n",
       "/* On hover */\n",
       "#sk-container-id-1 a.estimator_doc_link:hover {\n",
       "  /* unfitted */\n",
       "  background-color: var(--sklearn-color-unfitted-level-3);\n",
       "  color: var(--sklearn-color-background);\n",
       "  text-decoration: none;\n",
       "}\n",
       "\n",
       "#sk-container-id-1 a.estimator_doc_link.fitted:hover {\n",
       "  /* fitted */\n",
       "  background-color: var(--sklearn-color-fitted-level-3);\n",
       "}\n",
       "</style><div id=\"sk-container-id-1\" class=\"sk-top-container\"><div class=\"sk-text-repr-fallback\"><pre>RandomForestClassifierCustom(max_depth=30, max_features=2, random_state=42)</pre><b>In a Jupyter environment, please rerun this cell to show the HTML representation or trust the notebook. <br />On GitHub, the HTML representation is unable to render, please try loading this page with nbviewer.org.</b></div><div class=\"sk-container\" hidden><div class=\"sk-item\"><div class=\"sk-estimator  sk-toggleable\"><input class=\"sk-toggleable__control sk-hidden--visually\" id=\"sk-estimator-id-1\" type=\"checkbox\" checked><label for=\"sk-estimator-id-1\" class=\"sk-toggleable__label  sk-toggleable__label-arrow \">&nbsp;RandomForestClassifierCustom<span class=\"sk-estimator-doc-link \">i<span>Not fitted</span></span></label><div class=\"sk-toggleable__content \"><pre>RandomForestClassifierCustom(max_depth=30, max_features=2, random_state=42)</pre></div> </div></div></div></div>"
      ],
      "text/plain": [
       "RandomForestClassifierCustom(max_depth=30, max_features=2, random_state=42)"
      ]
     },
     "execution_count": 4,
     "metadata": {},
     "output_type": "execute_result"
    }
   ],
   "source": [
    "%%time\n",
    "parallel_tree.fit(X_train, y_train, n_jobs=1)"
   ]
  },
  {
   "cell_type": "code",
   "execution_count": 5,
   "id": "76164425-9440-46d0-abf8-9a49a13c6f19",
   "metadata": {},
   "outputs": [
    {
     "name": "stdout",
     "output_type": "stream",
     "text": [
      "CPU times: user 67.3 ms, sys: 55.2 ms, total: 123 ms\n",
      "Wall time: 191 ms\n"
     ]
    }
   ],
   "source": [
    "%%time\n",
    "results_1 = parallel_tree.predict(X_test, n_jobs=1)"
   ]
  },
  {
   "cell_type": "markdown",
   "id": "39e99aa3-f5ca-45e3-b096-ff3d04beb643",
   "metadata": {},
   "source": [
    "**Два процесса**"
   ]
  },
  {
   "cell_type": "code",
   "execution_count": 6,
   "id": "0831a313-fefe-4ecc-9b6c-f1f1141d31f3",
   "metadata": {},
   "outputs": [
    {
     "name": "stdout",
     "output_type": "stream",
     "text": [
      "CPU times: user 34.6 ms, sys: 92 ms, total: 127 ms\n",
      "Wall time: 1.28 s\n"
     ]
    },
    {
     "data": {
      "text/html": [
       "<style>#sk-container-id-2 {\n",
       "  /* Definition of color scheme common for light and dark mode */\n",
       "  --sklearn-color-text: black;\n",
       "  --sklearn-color-line: gray;\n",
       "  /* Definition of color scheme for unfitted estimators */\n",
       "  --sklearn-color-unfitted-level-0: #fff5e6;\n",
       "  --sklearn-color-unfitted-level-1: #f6e4d2;\n",
       "  --sklearn-color-unfitted-level-2: #ffe0b3;\n",
       "  --sklearn-color-unfitted-level-3: chocolate;\n",
       "  /* Definition of color scheme for fitted estimators */\n",
       "  --sklearn-color-fitted-level-0: #f0f8ff;\n",
       "  --sklearn-color-fitted-level-1: #d4ebff;\n",
       "  --sklearn-color-fitted-level-2: #b3dbfd;\n",
       "  --sklearn-color-fitted-level-3: cornflowerblue;\n",
       "\n",
       "  /* Specific color for light theme */\n",
       "  --sklearn-color-text-on-default-background: var(--sg-text-color, var(--theme-code-foreground, var(--jp-content-font-color1, black)));\n",
       "  --sklearn-color-background: var(--sg-background-color, var(--theme-background, var(--jp-layout-color0, white)));\n",
       "  --sklearn-color-border-box: var(--sg-text-color, var(--theme-code-foreground, var(--jp-content-font-color1, black)));\n",
       "  --sklearn-color-icon: #696969;\n",
       "\n",
       "  @media (prefers-color-scheme: dark) {\n",
       "    /* Redefinition of color scheme for dark theme */\n",
       "    --sklearn-color-text-on-default-background: var(--sg-text-color, var(--theme-code-foreground, var(--jp-content-font-color1, white)));\n",
       "    --sklearn-color-background: var(--sg-background-color, var(--theme-background, var(--jp-layout-color0, #111)));\n",
       "    --sklearn-color-border-box: var(--sg-text-color, var(--theme-code-foreground, var(--jp-content-font-color1, white)));\n",
       "    --sklearn-color-icon: #878787;\n",
       "  }\n",
       "}\n",
       "\n",
       "#sk-container-id-2 {\n",
       "  color: var(--sklearn-color-text);\n",
       "}\n",
       "\n",
       "#sk-container-id-2 pre {\n",
       "  padding: 0;\n",
       "}\n",
       "\n",
       "#sk-container-id-2 input.sk-hidden--visually {\n",
       "  border: 0;\n",
       "  clip: rect(1px 1px 1px 1px);\n",
       "  clip: rect(1px, 1px, 1px, 1px);\n",
       "  height: 1px;\n",
       "  margin: -1px;\n",
       "  overflow: hidden;\n",
       "  padding: 0;\n",
       "  position: absolute;\n",
       "  width: 1px;\n",
       "}\n",
       "\n",
       "#sk-container-id-2 div.sk-dashed-wrapped {\n",
       "  border: 1px dashed var(--sklearn-color-line);\n",
       "  margin: 0 0.4em 0.5em 0.4em;\n",
       "  box-sizing: border-box;\n",
       "  padding-bottom: 0.4em;\n",
       "  background-color: var(--sklearn-color-background);\n",
       "}\n",
       "\n",
       "#sk-container-id-2 div.sk-container {\n",
       "  /* jupyter's `normalize.less` sets `[hidden] { display: none; }`\n",
       "     but bootstrap.min.css set `[hidden] { display: none !important; }`\n",
       "     so we also need the `!important` here to be able to override the\n",
       "     default hidden behavior on the sphinx rendered scikit-learn.org.\n",
       "     See: https://github.com/scikit-learn/scikit-learn/issues/21755 */\n",
       "  display: inline-block !important;\n",
       "  position: relative;\n",
       "}\n",
       "\n",
       "#sk-container-id-2 div.sk-text-repr-fallback {\n",
       "  display: none;\n",
       "}\n",
       "\n",
       "div.sk-parallel-item,\n",
       "div.sk-serial,\n",
       "div.sk-item {\n",
       "  /* draw centered vertical line to link estimators */\n",
       "  background-image: linear-gradient(var(--sklearn-color-text-on-default-background), var(--sklearn-color-text-on-default-background));\n",
       "  background-size: 2px 100%;\n",
       "  background-repeat: no-repeat;\n",
       "  background-position: center center;\n",
       "}\n",
       "\n",
       "/* Parallel-specific style estimator block */\n",
       "\n",
       "#sk-container-id-2 div.sk-parallel-item::after {\n",
       "  content: \"\";\n",
       "  width: 100%;\n",
       "  border-bottom: 2px solid var(--sklearn-color-text-on-default-background);\n",
       "  flex-grow: 1;\n",
       "}\n",
       "\n",
       "#sk-container-id-2 div.sk-parallel {\n",
       "  display: flex;\n",
       "  align-items: stretch;\n",
       "  justify-content: center;\n",
       "  background-color: var(--sklearn-color-background);\n",
       "  position: relative;\n",
       "}\n",
       "\n",
       "#sk-container-id-2 div.sk-parallel-item {\n",
       "  display: flex;\n",
       "  flex-direction: column;\n",
       "}\n",
       "\n",
       "#sk-container-id-2 div.sk-parallel-item:first-child::after {\n",
       "  align-self: flex-end;\n",
       "  width: 50%;\n",
       "}\n",
       "\n",
       "#sk-container-id-2 div.sk-parallel-item:last-child::after {\n",
       "  align-self: flex-start;\n",
       "  width: 50%;\n",
       "}\n",
       "\n",
       "#sk-container-id-2 div.sk-parallel-item:only-child::after {\n",
       "  width: 0;\n",
       "}\n",
       "\n",
       "/* Serial-specific style estimator block */\n",
       "\n",
       "#sk-container-id-2 div.sk-serial {\n",
       "  display: flex;\n",
       "  flex-direction: column;\n",
       "  align-items: center;\n",
       "  background-color: var(--sklearn-color-background);\n",
       "  padding-right: 1em;\n",
       "  padding-left: 1em;\n",
       "}\n",
       "\n",
       "\n",
       "/* Toggleable style: style used for estimator/Pipeline/ColumnTransformer box that is\n",
       "clickable and can be expanded/collapsed.\n",
       "- Pipeline and ColumnTransformer use this feature and define the default style\n",
       "- Estimators will overwrite some part of the style using the `sk-estimator` class\n",
       "*/\n",
       "\n",
       "/* Pipeline and ColumnTransformer style (default) */\n",
       "\n",
       "#sk-container-id-2 div.sk-toggleable {\n",
       "  /* Default theme specific background. It is overwritten whether we have a\n",
       "  specific estimator or a Pipeline/ColumnTransformer */\n",
       "  background-color: var(--sklearn-color-background);\n",
       "}\n",
       "\n",
       "/* Toggleable label */\n",
       "#sk-container-id-2 label.sk-toggleable__label {\n",
       "  cursor: pointer;\n",
       "  display: block;\n",
       "  width: 100%;\n",
       "  margin-bottom: 0;\n",
       "  padding: 0.5em;\n",
       "  box-sizing: border-box;\n",
       "  text-align: center;\n",
       "}\n",
       "\n",
       "#sk-container-id-2 label.sk-toggleable__label-arrow:before {\n",
       "  /* Arrow on the left of the label */\n",
       "  content: \"▸\";\n",
       "  float: left;\n",
       "  margin-right: 0.25em;\n",
       "  color: var(--sklearn-color-icon);\n",
       "}\n",
       "\n",
       "#sk-container-id-2 label.sk-toggleable__label-arrow:hover:before {\n",
       "  color: var(--sklearn-color-text);\n",
       "}\n",
       "\n",
       "/* Toggleable content - dropdown */\n",
       "\n",
       "#sk-container-id-2 div.sk-toggleable__content {\n",
       "  max-height: 0;\n",
       "  max-width: 0;\n",
       "  overflow: hidden;\n",
       "  text-align: left;\n",
       "  /* unfitted */\n",
       "  background-color: var(--sklearn-color-unfitted-level-0);\n",
       "}\n",
       "\n",
       "#sk-container-id-2 div.sk-toggleable__content.fitted {\n",
       "  /* fitted */\n",
       "  background-color: var(--sklearn-color-fitted-level-0);\n",
       "}\n",
       "\n",
       "#sk-container-id-2 div.sk-toggleable__content pre {\n",
       "  margin: 0.2em;\n",
       "  border-radius: 0.25em;\n",
       "  color: var(--sklearn-color-text);\n",
       "  /* unfitted */\n",
       "  background-color: var(--sklearn-color-unfitted-level-0);\n",
       "}\n",
       "\n",
       "#sk-container-id-2 div.sk-toggleable__content.fitted pre {\n",
       "  /* unfitted */\n",
       "  background-color: var(--sklearn-color-fitted-level-0);\n",
       "}\n",
       "\n",
       "#sk-container-id-2 input.sk-toggleable__control:checked~div.sk-toggleable__content {\n",
       "  /* Expand drop-down */\n",
       "  max-height: 200px;\n",
       "  max-width: 100%;\n",
       "  overflow: auto;\n",
       "}\n",
       "\n",
       "#sk-container-id-2 input.sk-toggleable__control:checked~label.sk-toggleable__label-arrow:before {\n",
       "  content: \"▾\";\n",
       "}\n",
       "\n",
       "/* Pipeline/ColumnTransformer-specific style */\n",
       "\n",
       "#sk-container-id-2 div.sk-label input.sk-toggleable__control:checked~label.sk-toggleable__label {\n",
       "  color: var(--sklearn-color-text);\n",
       "  background-color: var(--sklearn-color-unfitted-level-2);\n",
       "}\n",
       "\n",
       "#sk-container-id-2 div.sk-label.fitted input.sk-toggleable__control:checked~label.sk-toggleable__label {\n",
       "  background-color: var(--sklearn-color-fitted-level-2);\n",
       "}\n",
       "\n",
       "/* Estimator-specific style */\n",
       "\n",
       "/* Colorize estimator box */\n",
       "#sk-container-id-2 div.sk-estimator input.sk-toggleable__control:checked~label.sk-toggleable__label {\n",
       "  /* unfitted */\n",
       "  background-color: var(--sklearn-color-unfitted-level-2);\n",
       "}\n",
       "\n",
       "#sk-container-id-2 div.sk-estimator.fitted input.sk-toggleable__control:checked~label.sk-toggleable__label {\n",
       "  /* fitted */\n",
       "  background-color: var(--sklearn-color-fitted-level-2);\n",
       "}\n",
       "\n",
       "#sk-container-id-2 div.sk-label label.sk-toggleable__label,\n",
       "#sk-container-id-2 div.sk-label label {\n",
       "  /* The background is the default theme color */\n",
       "  color: var(--sklearn-color-text-on-default-background);\n",
       "}\n",
       "\n",
       "/* On hover, darken the color of the background */\n",
       "#sk-container-id-2 div.sk-label:hover label.sk-toggleable__label {\n",
       "  color: var(--sklearn-color-text);\n",
       "  background-color: var(--sklearn-color-unfitted-level-2);\n",
       "}\n",
       "\n",
       "/* Label box, darken color on hover, fitted */\n",
       "#sk-container-id-2 div.sk-label.fitted:hover label.sk-toggleable__label.fitted {\n",
       "  color: var(--sklearn-color-text);\n",
       "  background-color: var(--sklearn-color-fitted-level-2);\n",
       "}\n",
       "\n",
       "/* Estimator label */\n",
       "\n",
       "#sk-container-id-2 div.sk-label label {\n",
       "  font-family: monospace;\n",
       "  font-weight: bold;\n",
       "  display: inline-block;\n",
       "  line-height: 1.2em;\n",
       "}\n",
       "\n",
       "#sk-container-id-2 div.sk-label-container {\n",
       "  text-align: center;\n",
       "}\n",
       "\n",
       "/* Estimator-specific */\n",
       "#sk-container-id-2 div.sk-estimator {\n",
       "  font-family: monospace;\n",
       "  border: 1px dotted var(--sklearn-color-border-box);\n",
       "  border-radius: 0.25em;\n",
       "  box-sizing: border-box;\n",
       "  margin-bottom: 0.5em;\n",
       "  /* unfitted */\n",
       "  background-color: var(--sklearn-color-unfitted-level-0);\n",
       "}\n",
       "\n",
       "#sk-container-id-2 div.sk-estimator.fitted {\n",
       "  /* fitted */\n",
       "  background-color: var(--sklearn-color-fitted-level-0);\n",
       "}\n",
       "\n",
       "/* on hover */\n",
       "#sk-container-id-2 div.sk-estimator:hover {\n",
       "  /* unfitted */\n",
       "  background-color: var(--sklearn-color-unfitted-level-2);\n",
       "}\n",
       "\n",
       "#sk-container-id-2 div.sk-estimator.fitted:hover {\n",
       "  /* fitted */\n",
       "  background-color: var(--sklearn-color-fitted-level-2);\n",
       "}\n",
       "\n",
       "/* Specification for estimator info (e.g. \"i\" and \"?\") */\n",
       "\n",
       "/* Common style for \"i\" and \"?\" */\n",
       "\n",
       ".sk-estimator-doc-link,\n",
       "a:link.sk-estimator-doc-link,\n",
       "a:visited.sk-estimator-doc-link {\n",
       "  float: right;\n",
       "  font-size: smaller;\n",
       "  line-height: 1em;\n",
       "  font-family: monospace;\n",
       "  background-color: var(--sklearn-color-background);\n",
       "  border-radius: 1em;\n",
       "  height: 1em;\n",
       "  width: 1em;\n",
       "  text-decoration: none !important;\n",
       "  margin-left: 1ex;\n",
       "  /* unfitted */\n",
       "  border: var(--sklearn-color-unfitted-level-1) 1pt solid;\n",
       "  color: var(--sklearn-color-unfitted-level-1);\n",
       "}\n",
       "\n",
       ".sk-estimator-doc-link.fitted,\n",
       "a:link.sk-estimator-doc-link.fitted,\n",
       "a:visited.sk-estimator-doc-link.fitted {\n",
       "  /* fitted */\n",
       "  border: var(--sklearn-color-fitted-level-1) 1pt solid;\n",
       "  color: var(--sklearn-color-fitted-level-1);\n",
       "}\n",
       "\n",
       "/* On hover */\n",
       "div.sk-estimator:hover .sk-estimator-doc-link:hover,\n",
       ".sk-estimator-doc-link:hover,\n",
       "div.sk-label-container:hover .sk-estimator-doc-link:hover,\n",
       ".sk-estimator-doc-link:hover {\n",
       "  /* unfitted */\n",
       "  background-color: var(--sklearn-color-unfitted-level-3);\n",
       "  color: var(--sklearn-color-background);\n",
       "  text-decoration: none;\n",
       "}\n",
       "\n",
       "div.sk-estimator.fitted:hover .sk-estimator-doc-link.fitted:hover,\n",
       ".sk-estimator-doc-link.fitted:hover,\n",
       "div.sk-label-container:hover .sk-estimator-doc-link.fitted:hover,\n",
       ".sk-estimator-doc-link.fitted:hover {\n",
       "  /* fitted */\n",
       "  background-color: var(--sklearn-color-fitted-level-3);\n",
       "  color: var(--sklearn-color-background);\n",
       "  text-decoration: none;\n",
       "}\n",
       "\n",
       "/* Span, style for the box shown on hovering the info icon */\n",
       ".sk-estimator-doc-link span {\n",
       "  display: none;\n",
       "  z-index: 9999;\n",
       "  position: relative;\n",
       "  font-weight: normal;\n",
       "  right: .2ex;\n",
       "  padding: .5ex;\n",
       "  margin: .5ex;\n",
       "  width: min-content;\n",
       "  min-width: 20ex;\n",
       "  max-width: 50ex;\n",
       "  color: var(--sklearn-color-text);\n",
       "  box-shadow: 2pt 2pt 4pt #999;\n",
       "  /* unfitted */\n",
       "  background: var(--sklearn-color-unfitted-level-0);\n",
       "  border: .5pt solid var(--sklearn-color-unfitted-level-3);\n",
       "}\n",
       "\n",
       ".sk-estimator-doc-link.fitted span {\n",
       "  /* fitted */\n",
       "  background: var(--sklearn-color-fitted-level-0);\n",
       "  border: var(--sklearn-color-fitted-level-3);\n",
       "}\n",
       "\n",
       ".sk-estimator-doc-link:hover span {\n",
       "  display: block;\n",
       "}\n",
       "\n",
       "/* \"?\"-specific style due to the `<a>` HTML tag */\n",
       "\n",
       "#sk-container-id-2 a.estimator_doc_link {\n",
       "  float: right;\n",
       "  font-size: 1rem;\n",
       "  line-height: 1em;\n",
       "  font-family: monospace;\n",
       "  background-color: var(--sklearn-color-background);\n",
       "  border-radius: 1rem;\n",
       "  height: 1rem;\n",
       "  width: 1rem;\n",
       "  text-decoration: none;\n",
       "  /* unfitted */\n",
       "  color: var(--sklearn-color-unfitted-level-1);\n",
       "  border: var(--sklearn-color-unfitted-level-1) 1pt solid;\n",
       "}\n",
       "\n",
       "#sk-container-id-2 a.estimator_doc_link.fitted {\n",
       "  /* fitted */\n",
       "  border: var(--sklearn-color-fitted-level-1) 1pt solid;\n",
       "  color: var(--sklearn-color-fitted-level-1);\n",
       "}\n",
       "\n",
       "/* On hover */\n",
       "#sk-container-id-2 a.estimator_doc_link:hover {\n",
       "  /* unfitted */\n",
       "  background-color: var(--sklearn-color-unfitted-level-3);\n",
       "  color: var(--sklearn-color-background);\n",
       "  text-decoration: none;\n",
       "}\n",
       "\n",
       "#sk-container-id-2 a.estimator_doc_link.fitted:hover {\n",
       "  /* fitted */\n",
       "  background-color: var(--sklearn-color-fitted-level-3);\n",
       "}\n",
       "</style><div id=\"sk-container-id-2\" class=\"sk-top-container\"><div class=\"sk-text-repr-fallback\"><pre>RandomForestClassifierCustom(max_depth=30, max_features=2, random_state=42)</pre><b>In a Jupyter environment, please rerun this cell to show the HTML representation or trust the notebook. <br />On GitHub, the HTML representation is unable to render, please try loading this page with nbviewer.org.</b></div><div class=\"sk-container\" hidden><div class=\"sk-item\"><div class=\"sk-estimator  sk-toggleable\"><input class=\"sk-toggleable__control sk-hidden--visually\" id=\"sk-estimator-id-2\" type=\"checkbox\" checked><label for=\"sk-estimator-id-2\" class=\"sk-toggleable__label  sk-toggleable__label-arrow \">&nbsp;RandomForestClassifierCustom<span class=\"sk-estimator-doc-link \">i<span>Not fitted</span></span></label><div class=\"sk-toggleable__content \"><pre>RandomForestClassifierCustom(max_depth=30, max_features=2, random_state=42)</pre></div> </div></div></div></div>"
      ],
      "text/plain": [
       "RandomForestClassifierCustom(max_depth=30, max_features=2, random_state=42)"
      ]
     },
     "execution_count": 6,
     "metadata": {},
     "output_type": "execute_result"
    }
   ],
   "source": [
    "%%time\n",
    "parallel_tree.fit(X_train, y_train, n_jobs=2)"
   ]
  },
  {
   "cell_type": "code",
   "execution_count": 7,
   "id": "a350eb1f-f9c8-467d-8f2b-0ad9ddc93023",
   "metadata": {},
   "outputs": [
    {
     "name": "stdout",
     "output_type": "stream",
     "text": [
      "CPU times: user 66.5 ms, sys: 63 ms, total: 130 ms\n",
      "Wall time: 178 ms\n"
     ]
    }
   ],
   "source": [
    "%%time\n",
    "results_2 = parallel_tree.predict(X_test, n_jobs=2)"
   ]
  },
  {
   "cell_type": "markdown",
   "id": "03d99c48-e1b6-4f49-bc94-84c314e2f83c",
   "metadata": {},
   "source": [
    "**Сравниваем предикты**"
   ]
  },
  {
   "cell_type": "code",
   "execution_count": 8,
   "id": "7e2015fa-0e83-4004-a033-b95c575952de",
   "metadata": {},
   "outputs": [
    {
     "data": {
      "text/plain": [
       "True"
      ]
     },
     "execution_count": 8,
     "metadata": {},
     "output_type": "execute_result"
    }
   ],
   "source": [
    "(results_1 == results_2).all()"
   ]
  },
  {
   "cell_type": "markdown",
   "id": "2c83742a-d45a-4eaf-b83c-9c1c6a2ceac1",
   "metadata": {},
   "source": [
    "# OpenFasta"
   ]
  },
  {
   "cell_type": "code",
   "execution_count": 9,
   "id": "2ab97c41-1c67-44a2-9f1a-7009c4f79e89",
   "metadata": {},
   "outputs": [],
   "source": [
    "from bio_files_processor import OpenFasta"
   ]
  },
  {
   "cell_type": "code",
   "execution_count": 10,
   "id": "9a44a314-b1d5-42b9-bb3f-b273e6315d86",
   "metadata": {},
   "outputs": [],
   "source": [
    "path_to_file = 'data/example_fasta.fasta'"
   ]
  },
  {
   "cell_type": "code",
   "execution_count": 11,
   "id": "878a1b0b-0aa3-4612-962d-64cbec213516",
   "metadata": {},
   "outputs": [
    {
     "name": "stdout",
     "output_type": "stream",
     "text": [
      "<class FastaRecord>, id='GTD323452', seq='ACGGC...'. =(\n",
      "<class FastaRecord>, id='GTD678345', seq='TTGGC...'. =(\n",
      "<class FastaRecord>, id='GTD174893', seq='TTGAA...'. =(\n",
      "<class FastaRecord>, id='GTD906783', seq='TTGAA...'. =(\n",
      "<class FastaRecord>, id='GTD129563', seq='CGGAC...'. =(\n"
     ]
    }
   ],
   "source": [
    "fasta_list = []\n",
    "\n",
    "with OpenFasta(path_to_file) as file:\n",
    "    for i in file:\n",
    "        print(i)\n",
    "        fasta_list.append(i)"
   ]
  },
  {
   "cell_type": "code",
   "execution_count": 12,
   "id": "7c7db929-86a2-466a-8029-44f653b1be16",
   "metadata": {},
   "outputs": [
    {
     "name": "stdout",
     "output_type": "stream",
     "text": [
      "<class FastaRecord>, id='GTD323452', seq='ACGGC...'. =(\n",
      "5S_rRNA NODE_272_length_223_cov_0.720238:18-129(+)\n"
     ]
    }
   ],
   "source": [
    "print(fasta_list[0])\n",
    "\n",
    "print(fasta_list[0].description)"
   ]
  },
  {
   "cell_type": "code",
   "execution_count": 13,
   "id": "1cb361f9-b6f6-4c89-b026-4c848809ff7e",
   "metadata": {},
   "outputs": [
    {
     "name": "stdout",
     "output_type": "stream",
     "text": [
      "False\n"
     ]
    }
   ],
   "source": [
    "print(fasta_list[0].wish_beauty)"
   ]
  },
  {
   "cell_type": "code",
   "execution_count": 14,
   "id": "c62589f6-1c6d-4828-84ba-d6ff370b4317",
   "metadata": {},
   "outputs": [
    {
     "data": {
      "text/plain": [
       "<class FastaRecord>, id='GTD323452', seq='ACGGC...'\n",
       "             __\n",
       "        _   /  |\n",
       "       | \\  \\/_/\n",
       "       \\_\\| / __              \n",
       "          \\/_/__\\           .--=/~\\\n",
       "   ____,__/__,_____,______)/  /{~}}}\n",
       "   -,-----,--\\--,-----,---,\\  \\{{{~}\n",
       "           __/\\_            --=.\\}/\n",
       "          /_/ |\\\\\n",
       "               \\/"
      ]
     },
     "execution_count": 14,
     "metadata": {},
     "output_type": "execute_result"
    }
   ],
   "source": [
    "fasta_list[0].wish_beauty = True\n",
    "fasta_list[0]"
   ]
  },
  {
   "cell_type": "markdown",
   "id": "5249c8ec-ad11-4464-9e01-8c6fe50a244a",
   "metadata": {},
   "source": [
    "# Genscan"
   ]
  },
  {
   "cell_type": "code",
   "execution_count": 15,
   "id": "09e408d5-6a25-42aa-983a-9f2c4b8fb3f4",
   "metadata": {},
   "outputs": [],
   "source": [
    "import requests\n",
    "\n",
    "from general import run_genscan"
   ]
  },
  {
   "cell_type": "markdown",
   "id": "8d9ba6f9-09e4-417f-9e44-d1c525bc5cf4",
   "metadata": {},
   "source": [
    "## Пример 1\n",
    "\n",
    "Проверяем отправку файла\n",
    "\n",
    "[Сиквенс для примера](https://plants.ensembl.org/Zea_mays/Gene/Summary?db=otherfeatures;g=Zm00001d027233;r=1:94551-130553;t=Zm00001d027233_T001)"
   ]
  },
  {
   "cell_type": "code",
   "execution_count": 16,
   "id": "eb695ced-118f-4824-8276-5e21467c9255",
   "metadata": {},
   "outputs": [],
   "source": [
    "result_1 = run_genscan(sequence = None, sequence_file = 'data/maize.fasta', organism = 'Maize', exon_cutoff = 0.05)"
   ]
  },
  {
   "cell_type": "code",
   "execution_count": 17,
   "id": "bdd6736b-3b53-446c-bb25-2d30563736b8",
   "metadata": {},
   "outputs": [
    {
     "data": {
      "text/plain": [
       "200"
      ]
     },
     "execution_count": 17,
     "metadata": {},
     "output_type": "execute_result"
    }
   ],
   "source": [
    "result_1.status"
   ]
  },
  {
   "cell_type": "code",
   "execution_count": 18,
   "id": "0800d35e-198b-4f13-b808-b48fbc812a92",
   "metadata": {},
   "outputs": [
    {
     "data": {
      "text/plain": [
       "[('1.01', 614, 890),\n",
       " ('1.02', 972, 1134),\n",
       " ('1.03', 4126, 4273),\n",
       " ('1.04', 4498, 4503),\n",
       " ('2.00', 5189, 5228)]"
      ]
     },
     "execution_count": 18,
     "metadata": {},
     "output_type": "execute_result"
    }
   ],
   "source": [
    "result_1.exon_list[:5]"
   ]
  },
  {
   "cell_type": "code",
   "execution_count": 19,
   "id": "06bbaba2-ebd5-4f3a-8165-d457ba42d3c8",
   "metadata": {},
   "outputs": [
    {
     "data": {
      "text/plain": [
       "[('1.01', 891, 971),\n",
       " ('1.02', 1135, 4125),\n",
       " ('2.00', 5229, 7813),\n",
       " ('3.00', 9648, 12435),\n",
       " ('4.00', 15281, 17268)]"
      ]
     },
     "execution_count": 19,
     "metadata": {},
     "output_type": "execute_result"
    }
   ],
   "source": [
    "result_1.intron_list[:5]"
   ]
  },
  {
   "cell_type": "code",
   "execution_count": 20,
   "id": "2e6103f5-a50b-4d7b-a769-2df2fa661901",
   "metadata": {},
   "outputs": [
    {
     "data": {
      "text/plain": [
       "('>/tmp/04_30_24-06:01:11.fasta|GENSCAN_predicted_CDS_1|588_bp',\n",
       " 'atggaggacccaacatatacccctgaggttgtacaccctacagcggatgcaacggaacctgatggatcctcagttaccgcctgcgactgggttatccctgaattcggttccatgccaaggcgctaccttgccaacaaatgggagtgcaagcataaccgaacaaggaagtggggtggagcatacacaagcgaagccaagggtgatgatgatgatgaggttgtcatattcagagaagataatgacgacgacgacgagggatacatattcgctgaccaatatgacgagaccgacgaggacatcgagatcgatggtactcaagatgaatctactgccactgatgtgcctgacccgtacgacaaggtgtacagtaacctccctgaagaaacacatatgctgaagcttgttcctgactgcggttattgcaccgcgaagaagtttgaagcgacaacccgatcgaacataaagatccttgtcatcccagtcgtcgatggaaagaagaggtcgaggaagggtgtaagaaagaaccccacaatagattgtgggacatacaccaagaacatcgtctacaaggaggtcctaataaactag')"
      ]
     },
     "execution_count": 20,
     "metadata": {},
     "output_type": "execute_result"
    }
   ],
   "source": [
    "result_1.cds_list[0]"
   ]
  },
  {
   "cell_type": "markdown",
   "id": "a4253891-0c85-47aa-8062-7888ae5e7ad3",
   "metadata": {},
   "source": [
    "## Пример 2\n",
    "\n",
    "Проверяем отправку строкой. Загрузим сиквенс с NCBI.\n",
    "\n",
    "[Сиквенс для примера](https://www.ncbi.nlm.nih.gov/nuccore/NC_003074.8?report=fasta&from=314693&to=317431&strand=true)"
   ]
  },
  {
   "cell_type": "code",
   "execution_count": 21,
   "id": "01299d35-8458-457e-8055-ee82cfa2f404",
   "metadata": {},
   "outputs": [],
   "source": [
    "url = 'https://www.ncbi.nlm.nih.gov/sviewer/viewer.fcgi'\n",
    "\n",
    "query_string_params = {\n",
    "                       'id': '240255695',\n",
    "                       'db': 'nuccore',\n",
    "                       'report': 'fasta',\n",
    "                       'from': '314693',\n",
    "                       'to': '317431',\n",
    "                       'strand': 'on',\n",
    "                       'retmode': 'html',\n",
    "                       }\n",
    "\n",
    "response = requests.get(url, params=query_string_params)\n",
    "\n",
    "sequence_ara = ''.join(response.text.split('sequence')[1].split('\\n'))"
   ]
  },
  {
   "cell_type": "code",
   "execution_count": 22,
   "id": "5ed27e21-efdb-424d-9a55-28c66480a2eb",
   "metadata": {},
   "outputs": [
    {
     "data": {
      "text/plain": [
       "200"
      ]
     },
     "execution_count": 22,
     "metadata": {},
     "output_type": "execute_result"
    }
   ],
   "source": [
    "response.status_code"
   ]
  },
  {
   "cell_type": "code",
   "execution_count": 23,
   "id": "9f9ca61b-10d3-4796-98df-1a8caa865c26",
   "metadata": {},
   "outputs": [
    {
     "data": {
      "text/plain": [
       "'TGTTTGGGCTCAATTTGGGCTCTGTCTGTTATCCACAAATTAAGAGACGCAAACCTAAAACGACGCCGTTCCATAGTTTTCCTTTGAAGAAGAGAGAGAC'"
      ]
     },
     "execution_count": 23,
     "metadata": {},
     "output_type": "execute_result"
    }
   ],
   "source": [
    "sequence_ara[:100]"
   ]
  },
  {
   "cell_type": "code",
   "execution_count": 24,
   "id": "08b425cd-040b-4ba3-9b40-db76f9fab733",
   "metadata": {},
   "outputs": [
    {
     "name": "stderr",
     "output_type": "stream",
     "text": [
      "Warning: both a sequence string and a file are provided. File will be ignored.\n"
     ]
    }
   ],
   "source": [
    "# Предупреждение, когда одновременно указаны и сиквенс, и файл\n",
    "# Т.к. на сайте приоритет у введённого сиквенса, в этом туле также: файл игнорируется \n",
    "result_2 = run_genscan(sequence = sequence_ara, sequence_file = 'maize.fasta', organism = 'Arabidopsis', exon_cutoff = 0.05)"
   ]
  },
  {
   "cell_type": "code",
   "execution_count": 25,
   "id": "eece144a-0e5a-40b4-8dd2-e7a25a957499",
   "metadata": {},
   "outputs": [
    {
     "data": {
      "text/plain": [
       "200"
      ]
     },
     "execution_count": 25,
     "metadata": {},
     "output_type": "execute_result"
    }
   ],
   "source": [
    "result_2.status"
   ]
  },
  {
   "cell_type": "code",
   "execution_count": 26,
   "id": "7d0a220e-44b8-45fb-949c-826d9512cfcf",
   "metadata": {},
   "outputs": [
    {
     "data": {
      "text/plain": [
       "[('1.01', 77, 232),\n",
       " ('1.02', 523, 585),\n",
       " ('1.03', 797, 878),\n",
       " ('1.04', 947, 1065),\n",
       " ('1.05', 1149, 1244)]"
      ]
     },
     "execution_count": 26,
     "metadata": {},
     "output_type": "execute_result"
    }
   ],
   "source": [
    "result_2.exon_list[:5]"
   ]
  },
  {
   "cell_type": "code",
   "execution_count": 27,
   "id": "20a3f6b5-bad7-4944-af92-221c7ece0db9",
   "metadata": {},
   "outputs": [
    {
     "data": {
      "text/plain": [
       "[('1.01', 233, 522),\n",
       " ('1.02', 586, 796),\n",
       " ('1.03', 879, 946),\n",
       " ('1.04', 1066, 1148),\n",
       " ('1.05', 1245, 1367)]"
      ]
     },
     "execution_count": 27,
     "metadata": {},
     "output_type": "execute_result"
    }
   ],
   "source": [
    "result_2.intron_list[:5]"
   ]
  },
  {
   "cell_type": "code",
   "execution_count": 28,
   "id": "170ba421-102c-4bc4-85c0-6df0e4c10514",
   "metadata": {},
   "outputs": [
    {
     "data": {
      "text/plain": [
       "('>/tmp/04_30_24-06:01:22.fasta|GENSCAN_predicted_CDS_1|1008_bp',\n",
       " 'ttttcctttgaagaagagagagacgtcacaaaggaaagcactcaatcgtcatttcctcggtatctcctcctcgaaagaagaatgcctggaattagaggtccttcggaatactcgcaggaaccacctcgtcacccttctctcaaggtcaacgccaagctactccgtcacccttactggattgatccagaacccgagaaagctctttatcaaagacatcagtgtgccggtaacagaaggactgccatgagcaaagttaggaatgttagaggtgttggatgggatgtttctgctattggcaacgctgtctggggtggggcgaaactggccgatgttcttgagcttgtggggataccaaagctgactgcttctaccaatttaggagccagacatgttgagttcgttagtgttgatcgctgtaaggaggaaaatgggggcccttataaggcgtcaatcactctaagtcaagccacaaatcctgaagcggatgttctactcgcttatgagatgaatggagagaccctgaacagggatcacggatttccgttaagggtggttgtccctggtgtgattggtgctcgttcggtcaaatggcttgattccatcaatgtcatcgctgaagaaagccagagtgcaatctgctctgtggaggatgtgcaaatggtgaagcctggaaaggtaagtatcaaaggatatgcggtttcaggaggtggacgcgggatagaaagagtggacatatccctggatggaggcaaaaactgggtggaagcttctagaacgcaggaaccaggaaagcagtacatctcagaacacagctccagtgacaaatgggcatgggtgttgtttgaagccaccattgatgtttcacagactacagaggtcatcgccaaagcggttgattcggcggcgaatgttcaaccggaaaatgtggagtcggtgtggaacctaagaggggttctcaacacttcgtggcaccgtgtccttctccggcttggccactctaacttgtag</pre>')"
      ]
     },
     "execution_count": 28,
     "metadata": {},
     "output_type": "execute_result"
    }
   ],
   "source": [
    "result_2.cds_list[0]"
   ]
  },
  {
   "cell_type": "markdown",
   "id": "00f8e6a7-bf1d-4ae3-8f63-7f9be1833ecf",
   "metadata": {},
   "source": [
    "## Пример 3\n",
    "\n",
    "Проверим какой-нибудь смешной сиквенс без экзонов"
   ]
  },
  {
   "cell_type": "code",
   "execution_count": 29,
   "id": "0bbbbd0f-99a6-41cc-8ab4-a432890855b5",
   "metadata": {},
   "outputs": [],
   "source": [
    "no_ex_seq = 'agagagagagagagaagagaggaa'"
   ]
  },
  {
   "cell_type": "code",
   "execution_count": 30,
   "id": "e69f24bf-dd38-4fe7-b504-3faac8fed7a7",
   "metadata": {},
   "outputs": [],
   "source": [
    "result_3 = run_genscan(sequence = no_ex_seq, organism = 'Vertebrate', exon_cutoff = 0.05)"
   ]
  },
  {
   "cell_type": "code",
   "execution_count": 31,
   "id": "3cc39ed9-047a-46f1-ac2c-1dd9f4dab7a0",
   "metadata": {},
   "outputs": [
    {
     "data": {
      "text/plain": [
       "GenscanOutput(status=200, exon_list=None, cds_list=None, intron_list=None)"
      ]
     },
     "execution_count": 31,
     "metadata": {},
     "output_type": "execute_result"
    }
   ],
   "source": [
    "result_3"
   ]
  },
  {
   "cell_type": "markdown",
   "id": "15f8d187-b3a6-43d5-be47-99b3f922e6d4",
   "metadata": {},
   "source": [
    "## Пример 4\n",
    "\n",
    "Если ошиблись в параметрах"
   ]
  },
  {
   "cell_type": "code",
   "execution_count": 32,
   "id": "e0fcf8e7-b7e4-4f99-81cf-b4d0b027e1ce",
   "metadata": {},
   "outputs": [
    {
     "ename": "ValueError",
     "evalue": "Incorrect input of \"exon_cutoff\": 5! Should be: 1.00, 0.50, 0.25, 0.05, 0.02 or 0.01",
     "output_type": "error",
     "traceback": [
      "\u001b[0;31m---------------------------------------------------------------------------\u001b[0m",
      "\u001b[0;31mValueError\u001b[0m                                Traceback (most recent call last)",
      "Cell \u001b[0;32mIn[32], line 1\u001b[0m\n\u001b[0;32m----> 1\u001b[0m result_4 \u001b[38;5;241m=\u001b[39m \u001b[43mrun_genscan\u001b[49m\u001b[43m(\u001b[49m\u001b[43msequence\u001b[49m\u001b[43m \u001b[49m\u001b[38;5;241;43m=\u001b[39;49m\u001b[43m \u001b[49m\u001b[43msequence_ara\u001b[49m\u001b[43m,\u001b[49m\u001b[43m \u001b[49m\u001b[43morganism\u001b[49m\u001b[43m \u001b[49m\u001b[38;5;241;43m=\u001b[39;49m\u001b[43m \u001b[49m\u001b[38;5;124;43m'\u001b[39;49m\u001b[38;5;124;43mAra\u001b[39;49m\u001b[38;5;124;43m'\u001b[39;49m\u001b[43m,\u001b[49m\u001b[43m \u001b[49m\u001b[43mexon_cutoff\u001b[49m\u001b[43m \u001b[49m\u001b[38;5;241;43m=\u001b[39;49m\u001b[43m \u001b[49m\u001b[38;5;241;43m5\u001b[39;49m\u001b[43m)\u001b[49m\n",
      "File \u001b[0;32m~/Main/IB/2_Python/18/DAYWWYD_HW18/general.py:584\u001b[0m, in \u001b[0;36mrun_genscan\u001b[0;34m(sequence, sequence_file, organism, exon_cutoff, sequence_name)\u001b[0m\n\u001b[1;32m    554\u001b[0m \u001b[38;5;28;01mdef\u001b[39;00m \u001b[38;5;21mrun_genscan\u001b[39m(sequence: \u001b[38;5;28mstr\u001b[39m \u001b[38;5;241m=\u001b[39m \u001b[38;5;28;01mNone\u001b[39;00m,\n\u001b[1;32m    555\u001b[0m                 sequence_file\u001b[38;5;241m=\u001b[39m\u001b[38;5;28;01mNone\u001b[39;00m,\n\u001b[1;32m    556\u001b[0m                 organism: \u001b[38;5;28mstr\u001b[39m \u001b[38;5;241m=\u001b[39m \u001b[38;5;124m'\u001b[39m\u001b[38;5;124mVertebrate\u001b[39m\u001b[38;5;124m'\u001b[39m,\n\u001b[1;32m    557\u001b[0m                 exon_cutoff: \u001b[38;5;28mfloat\u001b[39m \u001b[38;5;241m=\u001b[39m \u001b[38;5;241m1.00\u001b[39m,\n\u001b[1;32m    558\u001b[0m                 sequence_name: \u001b[38;5;28mstr\u001b[39m \u001b[38;5;241m=\u001b[39m \u001b[38;5;124m'\u001b[39m\u001b[38;5;124m'\u001b[39m) \u001b[38;5;241m-\u001b[39m\u001b[38;5;241m>\u001b[39m GenscanOutput:\n\u001b[1;32m    559\u001b[0m \u001b[38;5;250m    \u001b[39m\u001b[38;5;124;03m\"\"\"\u001b[39;00m\n\u001b[1;32m    560\u001b[0m \u001b[38;5;124;03m    Sends a request to the Genscan Web Server with the specified parameters.\u001b[39;00m\n\u001b[1;32m    561\u001b[0m \u001b[38;5;124;03m    From the results obtained, it saves a table with exons and the found CDS\u001b[39;00m\n\u001b[0;32m   (...)\u001b[0m\n\u001b[1;32m    581\u001b[0m \u001b[38;5;124;03m    return : GenscanOutput class object\u001b[39;00m\n\u001b[1;32m    582\u001b[0m \u001b[38;5;124;03m    \"\"\"\u001b[39;00m\n\u001b[0;32m--> 584\u001b[0m     \u001b[43mcheck_input_args\u001b[49m\u001b[43m(\u001b[49m\u001b[43morganism\u001b[49m\u001b[43m,\u001b[49m\u001b[43m \u001b[49m\u001b[43mexon_cutoff\u001b[49m\u001b[43m,\u001b[49m\u001b[43m \u001b[49m\u001b[43msequence\u001b[49m\u001b[43m,\u001b[49m\u001b[43m \u001b[49m\u001b[43msequence_file\u001b[49m\u001b[43m)\u001b[49m\n\u001b[1;32m    586\u001b[0m     url \u001b[38;5;241m=\u001b[39m \u001b[38;5;124m'\u001b[39m\u001b[38;5;124mhttp://hollywood.mit.edu/cgi-bin/genscanw_py.cgi\u001b[39m\u001b[38;5;124m'\u001b[39m\n\u001b[1;32m    587\u001b[0m     hd \u001b[38;5;241m=\u001b[39m {\u001b[38;5;124m'\u001b[39m\u001b[38;5;124mUser-Agent\u001b[39m\u001b[38;5;124m'\u001b[39m: \u001b[38;5;124m'\u001b[39m\u001b[38;5;124mMozilla/5.0 (X11; Ubuntu; Linux x86_64; rv:123.0) Gecko/20100101 Firefox/123.0\u001b[39m\u001b[38;5;124m'\u001b[39m,\n\u001b[1;32m    588\u001b[0m           \u001b[38;5;124m'\u001b[39m\u001b[38;5;124mReferer\u001b[39m\u001b[38;5;124m'\u001b[39m: \u001b[38;5;124m'\u001b[39m\u001b[38;5;124mhttp://hollywood.mit.edu/GENSCAN.html\u001b[39m\u001b[38;5;124m'\u001b[39m\n\u001b[1;32m    589\u001b[0m           }\n",
      "File \u001b[0;32m~/Main/IB/2_Python/18/DAYWWYD_HW18/general.py:403\u001b[0m, in \u001b[0;36mcheck_input_args\u001b[0;34m(organism, exon_cutoff, seq_str, seq_file)\u001b[0m\n\u001b[1;32m    400\u001b[0m seqs_check \u001b[38;5;241m=\u001b[39m seq_str \u001b[38;5;129;01mis\u001b[39;00m \u001b[38;5;28;01mNone\u001b[39;00m \u001b[38;5;129;01mand\u001b[39;00m seq_file \u001b[38;5;129;01mis\u001b[39;00m \u001b[38;5;28;01mNone\u001b[39;00m\n\u001b[1;32m    402\u001b[0m \u001b[38;5;28;01mif\u001b[39;00m cutoff_check:\n\u001b[0;32m--> 403\u001b[0m     \u001b[38;5;28;01mraise\u001b[39;00m \u001b[38;5;167;01mValueError\u001b[39;00m(\u001b[38;5;124mf\u001b[39m\u001b[38;5;124m'\u001b[39m\u001b[38;5;124mIncorrect input of \u001b[39m\u001b[38;5;124m\"\u001b[39m\u001b[38;5;124mexon_cutoff\u001b[39m\u001b[38;5;124m\"\u001b[39m\u001b[38;5;124m: \u001b[39m\u001b[38;5;132;01m{\u001b[39;00mexon_cutoff\u001b[38;5;132;01m}\u001b[39;00m\u001b[38;5;124m! \u001b[39m\u001b[38;5;124m'\u001b[39m\n\u001b[1;32m    404\u001b[0m                      \u001b[38;5;124mf\u001b[39m\u001b[38;5;124m'\u001b[39m\u001b[38;5;124mShould be: 1.00, 0.50, 0.25, 0.05, 0.02 or 0.01\u001b[39m\u001b[38;5;124m'\u001b[39m)\n\u001b[1;32m    405\u001b[0m \u001b[38;5;28;01melif\u001b[39;00m orgs_check:\n\u001b[1;32m    406\u001b[0m     \u001b[38;5;28;01mraise\u001b[39;00m \u001b[38;5;167;01mValueError\u001b[39;00m(\u001b[38;5;124mf\u001b[39m\u001b[38;5;124m'\u001b[39m\u001b[38;5;124mIncorrect input of \u001b[39m\u001b[38;5;124m\"\u001b[39m\u001b[38;5;124morganism\u001b[39m\u001b[38;5;124m\"\u001b[39m\u001b[38;5;124m: \u001b[39m\u001b[38;5;132;01m{\u001b[39;00morganism\u001b[38;5;132;01m}\u001b[39;00m\u001b[38;5;124m! \u001b[39m\u001b[38;5;124m'\u001b[39m\n\u001b[1;32m    407\u001b[0m                      \u001b[38;5;124mf\u001b[39m\u001b[38;5;124m'\u001b[39m\u001b[38;5;124mShould be: Vertebrate, Arabidopsis or Maize\u001b[39m\u001b[38;5;124m'\u001b[39m)\n",
      "\u001b[0;31mValueError\u001b[0m: Incorrect input of \"exon_cutoff\": 5! Should be: 1.00, 0.50, 0.25, 0.05, 0.02 or 0.01"
     ]
    }
   ],
   "source": [
    "result_4 = run_genscan(sequence = sequence_ara, organism = 'Ara', exon_cutoff = 5)"
   ]
  },
  {
   "cell_type": "markdown",
   "id": "c1bf3d20-4102-4262-b3dc-3b5e2f5a8a55",
   "metadata": {},
   "source": [
    "# BioSeqs Classes"
   ]
  },
  {
   "cell_type": "code",
   "execution_count": 33,
   "id": "a478c7b6-509b-4e09-9246-cc50abd70e85",
   "metadata": {},
   "outputs": [],
   "source": [
    "from general import DNASequence, RNASequence, AminoAcidSequence"
   ]
  },
  {
   "cell_type": "code",
   "execution_count": 34,
   "id": "97d21089-c99b-4af0-8c64-0c81ee395d91",
   "metadata": {},
   "outputs": [
    {
     "data": {
      "text/plain": [
       "False"
      ]
     },
     "execution_count": 34,
     "metadata": {},
     "output_type": "execute_result"
    }
   ],
   "source": [
    "wrong_dna_test = DNASequence('AAAACGTacgttttU')\n",
    "\n",
    "wrong_dna_test.check_sequence()"
   ]
  },
  {
   "cell_type": "code",
   "execution_count": 35,
   "id": "95a7170a-08d9-4250-9f14-3a1a2e01923b",
   "metadata": {},
   "outputs": [
    {
     "name": "stdout",
     "output_type": "stream",
     "text": [
      "26.7\n",
      "AAAACGUacguuuuu\n",
      "<class 'general.RNASequence'>\n"
     ]
    }
   ],
   "source": [
    "dna_test = DNASequence('AAAACGTacgttttt')\n",
    "\n",
    "print(dna_test.gc_content)\n",
    "\n",
    "transcribed_seq = dna_test.transcribe()\n",
    "\n",
    "print(transcribed_seq)\n",
    "\n",
    "print(type(transcribed_seq))"
   ]
  },
  {
   "cell_type": "code",
   "execution_count": 36,
   "id": "e5207c87-fde4-4618-a3d7-50880e86ac58",
   "metadata": {},
   "outputs": [
    {
     "name": "stdout",
     "output_type": "stream",
     "text": [
      "UUUUGCAugcaaaaa\n"
     ]
    }
   ],
   "source": [
    "rna_test = RNASequence(transcribed_seq.sequence)\n",
    "\n",
    "print(rna_test.complement())"
   ]
  },
  {
   "cell_type": "code",
   "execution_count": 37,
   "id": "7c140cf9-baa5-49ec-81a0-262518e93911",
   "metadata": {},
   "outputs": [
    {
     "data": {
      "text/plain": [
       "-0.49"
      ]
     },
     "execution_count": 37,
     "metadata": {},
     "output_type": "execute_result"
    }
   ],
   "source": [
    "protein_test = AminoAcidSequence('LKMFPSTWYVARNDCQEGHI')\n",
    "\n",
    "protein_test.gravy"
   ]
  },
  {
   "cell_type": "markdown",
   "id": "ea23e8a0-f6b4-49a3-a166-755b0b7ce1ae",
   "metadata": {},
   "source": [
    "# Test"
   ]
  },
  {
   "cell_type": "code",
   "execution_count": 38,
   "id": "2ca524e4-56ac-4d0b-8787-a7143d796caa",
   "metadata": {},
   "outputs": [
    {
     "name": "stdout",
     "output_type": "stream",
     "text": [
      "\u001b[1m============================= test session starts ==============================\u001b[0m\n",
      "platform linux -- Python 3.10.12, pytest-7.4.2, pluggy-1.3.0\n",
      "rootdir: /home/holydiver/Main/IB/2_Python/18/DAYWWYD_HW18\n",
      "plugins: anyio-4.0.0\n",
      "collected 8 items                                                              \u001b[0m\n",
      "\n",
      "test_general.py \u001b[32m.\u001b[0m\u001b[32m.\u001b[0m\u001b[32m.\u001b[0m\u001b[32m.\u001b[0m\u001b[32m.\u001b[0m\u001b[32m.\u001b[0m\u001b[32m.\u001b[0m\u001b[32m.\u001b[0m\u001b[33m                                                 [100%]\u001b[0m\n",
      "\n",
      "\u001b[33m=============================== warnings summary ===============================\u001b[0m\n",
      "general.py:18\n",
      "  /home/holydiver/Main/IB/2_Python/18/DAYWWYD_HW18/general.py:18: DeprecationWarning: \n",
      "  Pyarrow will become a required dependency of pandas in the next major release of pandas (pandas 3.0),\n",
      "  (to allow more performant data types, such as the Arrow string type, and better interoperability with other libraries)\n",
      "  but was not found to be installed on your system.\n",
      "  If this would cause problems for you,\n",
      "  please provide us feedback at https://github.com/pandas-dev/pandas/issues/54466\n",
      "          \n",
      "    import pandas as pd\n",
      "\n",
      "-- Docs: https://docs.pytest.org/en/stable/how-to/capture-warnings.html\n",
      "\u001b[33m========================= \u001b[32m8 passed\u001b[0m, \u001b[33m\u001b[1m1 warning\u001b[0m\u001b[33m in 0.40s\u001b[0m\u001b[33m =========================\u001b[0m\n"
     ]
    }
   ],
   "source": [
    "! python3 -m pytest"
   ]
  },
  {
   "cell_type": "code",
   "execution_count": null,
   "id": "d7d24207-de73-4192-a2db-caf2313c41d8",
   "metadata": {},
   "outputs": [],
   "source": []
  }
 ],
 "metadata": {
  "kernelspec": {
   "display_name": "Python 3 (ipykernel)",
   "language": "python",
   "name": "python3"
  },
  "language_info": {
   "codemirror_mode": {
    "name": "ipython",
    "version": 3
   },
   "file_extension": ".py",
   "mimetype": "text/x-python",
   "name": "python",
   "nbconvert_exporter": "python",
   "pygments_lexer": "ipython3",
   "version": "3.10.12"
  }
 },
 "nbformat": 4,
 "nbformat_minor": 5
}
